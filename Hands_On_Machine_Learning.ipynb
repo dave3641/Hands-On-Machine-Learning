{
  "nbformat": 4,
  "nbformat_minor": 0,
  "metadata": {
    "colab": {
      "provenance": []
    },
    "kernelspec": {
      "name": "python3",
      "display_name": "Python 3"
    },
    "language_info": {
      "name": "python"
    }
  },
  "cells": [
    {
      "cell_type": "code",
      "execution_count": 2,
      "metadata": {
        "id": "LrYzJA2P7Imv",
        "colab": {
          "base_uri": "https://localhost:8080/"
        },
        "outputId": "46dcfec9-d8c6-4ae5-c163-46cdd602abda"
      },
      "outputs": [
        {
          "output_type": "stream",
          "name": "stdout",
          "text": [
            "Testing\n"
          ]
        }
      ],
      "source": [
        "print('Testing')\n"
      ]
    }
  ]
}