{
  "nbformat": 4,
  "nbformat_minor": 0,
  "metadata": {
    "colab": {
      "provenance": [],
      "include_colab_link": true
    },
    "kernelspec": {
      "name": "python3",
      "display_name": "Python 3"
    },
    "language_info": {
      "name": "python"
    }
  },
  "cells": [
    {
      "cell_type": "markdown",
      "metadata": {
        "id": "view-in-github",
        "colab_type": "text"
      },
      "source": [
        "<a href=\"https://colab.research.google.com/github/dave3641/Hands-On-Machine-Learning/blob/main/Hands_On_Machine_Learning.ipynb\" target=\"_parent\"><img src=\"https://colab.research.google.com/assets/colab-badge.svg\" alt=\"Open In Colab\"/></a>"
      ]
    },
    {
      "cell_type": "code",
      "execution_count": null,
      "metadata": {
        "id": "LrYzJA2P7Imv",
        "colab": {
          "base_uri": "https://localhost:8080/"
        },
        "outputId": "46dcfec9-d8c6-4ae5-c163-46cdd602abda"
      },
      "outputs": [
        {
          "output_type": "stream",
          "name": "stdout",
          "text": [
            "Testing\n"
          ]
        }
      ],
      "source": [
        "print('Testing')\n"
      ]
    },
    {
      "cell_type": "code",
      "source": [
        "print('Added from BAE')\n"
      ],
      "metadata": {
        "id": "fFynJREom7uK",
        "outputId": "09ce9760-e5bf-4f75-94af-aae5d525c4bf",
        "colab": {
          "base_uri": "https://localhost:8080/"
        }
      },
      "execution_count": 1,
      "outputs": [
        {
          "output_type": "stream",
          "name": "stdout",
          "text": [
            "Added from BAE\n"
          ]
        }
      ]
    }
  ]
}